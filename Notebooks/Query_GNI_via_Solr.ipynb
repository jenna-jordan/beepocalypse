{
 "cells": [
  {
   "cell_type": "markdown",
   "metadata": {},
   "source": [
    "# Query GNI via Solr\n",
    "\n",
    "Jenna Jordan\n",
    "\n",
    "22 January 2020 - 12 February 2020\n",
    "\n",
    "### Purpose\n",
    "\n",
    "This notebook collects data from the Global News Index (GNI)."
   ]
  },
  {
   "cell_type": "code",
   "execution_count": 1,
   "metadata": {},
   "outputs": [],
   "source": [
    "import pandas as pd"
   ]
  },
  {
   "cell_type": "code",
   "execution_count": 2,
   "metadata": {},
   "outputs": [],
   "source": [
    "from query_solr_functions import query_solr, to_daily_timeseries, run_all_queries, filter_results"
   ]
  },
  {
   "cell_type": "markdown",
   "metadata": {},
   "source": [
    "## Prep for querying BulkLexisNexis corpus\n",
    "\n",
    "- specify fields to query\n",
    "- create the base time-series, which the to_daily_timeseries & run_all_queries functions require\n",
    "- key for converting publishers to acronyms"
   ]
  },
  {
   "cell_type": "code",
   "execution_count": 3,
   "metadata": {},
   "outputs": [],
   "source": [
    "ts_fields = ['aid', 'publication_date', 'publisher']"
   ]
  },
  {
   "cell_type": "code",
   "execution_count": 4,
   "metadata": {},
   "outputs": [],
   "source": [
    "AP_daterange = pd.date_range(start='1977-01-01', end='2019-08-18')\n",
    "SWB_daterange = pd.date_range(start='1979-01-01', end='2019-08-18')\n",
    "AFP_daterange = pd.date_range(start='1991-05-05', end='2019-08-18')\n",
    "XGNS_daterange = pd.date_range(start='1977-01-01', end='2019-08-18')\n",
    "NYT_daterange = pd.date_range(start='1980-06-01', end='2019-08-18')\n",
    "WP_daterange = pd.date_range(start='1977-01-01', end='2019-08-18')\n",
    "UPI_daterange = pd.date_range(start='1980-09-26', end='2019-08-16')\n",
    "DPA_daterange = pd.date_range(start='1994-07-03', end='2019-08-18')\n",
    "IPS_daterange = pd.date_range(start='2010-01-13', end='2019-07-17')\n",
    "\n",
    "publishers = [{'name': 'BBC Monitoring: International Reports', 'abbr': 'SWB', 'dates': SWB_daterange}, \n",
    "              {'name': 'The New York Times', 'abbr': 'NYT', 'dates': NYT_daterange},\n",
    "              {'name': 'The Washington Post', 'abbr': 'WP', 'dates': WP_daterange},\n",
    "              {'name': 'The Associated Press', 'abbr': 'AP', 'dates': AP_daterange},\n",
    "              {'name': 'Agence France Presse - English', 'abbr': 'AFP', 'dates': AFP_daterange},\n",
    "              {'name': 'Xinhua General News Service', 'abbr': 'XGNS', 'dates': XGNS_daterange},\n",
    "              {'name': 'UPI (United Press International)', 'abbr': 'UPI', 'dates': UPI_daterange},\n",
    "              {'name': 'dpa international (Englischer Dienst)', 'abbr': 'DPA', 'dates': DPA_daterange},\n",
    "              {'name': 'Inter Press Service', 'abbr': 'IPS', 'dates': IPS_daterange}]\n",
    "\n",
    "all_dfs = []\n",
    "for pub in publishers:\n",
    "    df = pd.DataFrame(pub['dates'], columns=['publication_date'])\n",
    "    df['publisher'] = pub['name']\n",
    "    df['publisher'] = df['publisher'].astype('category')\n",
    "    all_dfs.append(df)\n",
    "base_ts = pd.concat(all_dfs)"
   ]
  },
  {
   "cell_type": "code",
   "execution_count": 5,
   "metadata": {},
   "outputs": [],
   "source": [
    "pubmap = {}\n",
    "for pub in publishers:\n",
    "    pubmap[pub['name']]= pub['abbr']"
   ]
  },
  {
   "cell_type": "markdown",
   "metadata": {},
   "source": [
    "### Query to get total article counts within BLN\n",
    "\n",
    "Note: this is seperate so that it doesn't have to be re-run each time a new query is added (because this one takes the longest)"
   ]
  },
  {
   "cell_type": "code",
   "execution_count": null,
   "metadata": {},
   "outputs": [],
   "source": [
    "biggest_query = [\n",
    "    {'name': 'BLN_total', \n",
    "     'query': \n",
    "    \"\"\"\n",
    "    (content:*) AND source_name:BulkLexisNexis\n",
    "    \"\"\"}\n",
    "]"
   ]
  },
  {
   "cell_type": "code",
   "execution_count": null,
   "metadata": {},
   "outputs": [],
   "source": [
    "bln_df = run_all_queries(biggest_query, ts_fields, base_ts)"
   ]
  },
  {
   "cell_type": "code",
   "execution_count": null,
   "metadata": {},
   "outputs": [],
   "source": [
    "bln_df = bln_df.reset_index()"
   ]
  },
  {
   "cell_type": "code",
   "execution_count": null,
   "metadata": {},
   "outputs": [],
   "source": [
    "bln_df.publisher = bln_df.publisher.map(pubmap)"
   ]
  },
  {
   "cell_type": "code",
   "execution_count": null,
   "metadata": {},
   "outputs": [],
   "source": [
    "bln_df.to_csv(\"../Data/bln_daily_total.csv\", index=False)"
   ]
  },
  {
   "cell_type": "markdown",
   "metadata": {},
   "source": [
    "### All Queries"
   ]
  },
  {
   "cell_type": "code",
   "execution_count": 7,
   "metadata": {},
   "outputs": [],
   "source": [
    "all_queries = [\n",
    "    {'name': 'insect_population',\n",
    "    'query': \n",
    "    \"\"\"\n",
    "    (content: (insect OR pollinator OR bee OR honeybee OR moth) AND (\"insect population\"~5 OR \"pollinator population\"~5 OR \"bee population\"~5 OR \"honeybee population\"~5 OR \"moth population\"~5 OR \"biological diversity\" OR biodiversity OR biomass OR ecolog* OR ecosystem* OR entomolog*) AND (study OR professor OR experiment OR research OR analysis OR data)) AND (source_name:BulkLexisNexis)\n",
    "    \"\"\"},\n",
    "    {'name': 'insect_decline',\n",
    "    'query': \n",
    "    \"\"\"\n",
    "    (content: (insect OR pollinator OR bee OR honeybee OR moth) AND (\"insect population\"~5 OR \"pollinator population\"~5 OR \"bee population\"~5 OR \"honeybee population\"~5 OR \"moth population\"~5 OR \"biological diversity\" OR biodiversity OR biomass OR ecolog* OR ecosystem* OR entomolog*) AND (study OR professor OR experiment OR research OR analysis OR data) AND (crisis OR \"colony collapse\" OR apocalypse OR armageddon OR extinct OR \"insect decline\"~5 OR \"insect drop\"~5 OR \"insect decrease\"~5 OR \"insect disappear\"~5 OR \"population decline\"~5 OR \"population drop\"~5 OR \"population decrease\"~5 OR \"population disappear\"~5 OR \"abundance decline\"~5 OR \"abundance drop\"~5 OR \"abundance decrease\"~5 OR \"abundance disappear\"~5)) AND (source_name:BulkLexisNexis)\n",
    "    \"\"\"},\n",
    "    {'name': 'pollinator_population',\n",
    "    'query': \n",
    "    \"\"\"\n",
    "    (content: ((insect AND pollinator) OR (bee OR honeybee OR moth)) AND (\"insect population\"~5 OR \"pollinator population\"~5 OR \"bee population\"~5 OR \"honeybee population\"~5 OR \"moth population\"~5 OR \"biological diversity\" OR biodiversity OR biomass OR ecolog* OR ecosystem* OR entomolog*) AND (study OR professor OR experiment OR research OR analysis OR data)) AND (source_name:BulkLexisNexis)\n",
    "    \"\"\"},\n",
    "    {'name': 'pollinator_decline',\n",
    "    'query': \n",
    "    \"\"\"\n",
    "    (content: ((insect AND pollinator) OR (bee OR honeybee OR moth)) AND (\"insect population\"~5 OR \"pollinator population\"~5 OR \"bee population\"~5 OR \"honeybee population\"~5 OR \"moth population\"~5 OR \"biological diversity\" OR biodiversity OR biomass OR ecolog* OR ecosystem* OR entomolog*) AND (study OR professor OR experiment OR research OR analysis OR data) AND (crisis OR \"colony collapse\" OR apocalypse OR armageddon OR extinct OR \"insect decline\"~5 OR \"insect drop\"~5 OR \"insect decrease\"~5 OR \"insect disappear\"~5 OR \"population decline\"~5 OR \"population drop\"~5 OR \"population decrease\"~5 OR \"population disappear\"~5 OR \"abundance decline\"~5 OR \"abundance drop\"~5 OR \"abundance decrease\"~5 OR \"abundance disappear\"~5)) AND (source_name:BulkLexisNexis)\n",
    "    \"\"\"},\n",
    "    {'name': 'insect_apocalypse', \n",
    "     'query': \n",
    "    \"\"\"\n",
    "    (content:\"insect apocalypse\"~5 OR \"insect armageddon\"~5 OR \"beepocalypse\") AND source_name:BulkLexisNexis\n",
    "    \"\"\"},\n",
    "     {'name': 'colony_collapse', \n",
    "     'query': \n",
    "    \"\"\"\n",
    "    (content:\"colony collapse\" AND (bee OR honeybee)) AND source_name:BulkLexisNexis\n",
    "    \"\"\"},\n",
    "    {'name': 'climate_change', \n",
    "     'query': \n",
    "    \"\"\"\n",
    "    (content:\"climate change\" OR \"global warming\") AND source_name:BulkLexisNexis\n",
    "    \"\"\"},\n",
    "    {'name': 'climate_change_IPCCreport', \n",
    "     'query': \n",
    "    \"\"\"\n",
    "    (content:(\"climate change\" OR \"global warming\") AND (\"IPCC\" OR \"Intergovernmental Panel on Climate Change\") AND report) AND source_name:BulkLexisNexis\n",
    "    \"\"\"},\n",
    "    {'name': 'insect_population_studies', \n",
    "     'query': \n",
    "    \"\"\"\n",
    "    (content: (\"Krefeld\" OR \"the German study\" OR \"Hans de Kroon\" OR \"Martin Sorg\" OR \"Werner Stenmans\" OR \"Dave Goulson\" OR \"Brad Lister\" OR \"Andres Garcia\" OR \"the Puerto Rico study\" OR \"S?nchez-Bayo\" OR \"Wyckhuys\" OR \"Rob Dunn\" OR \"David Wagner\" OR \"Chris Thomas\" OR \"Anders Tottrup\" OR \"Kevin Gaston\" OR \"Chris Thomas\" OR \"Roel van Klink\" OR \"Arthur Shapiro\" OR \"Aletta Bonn\" OR \"E.O. Wilson\") AND (insect OR pollinator OR bee OR honeybee OR moth) AND (\"insect population\"~5 OR \"pollinator population\"~5 OR \"bee population\"~5 OR \"honeybee population\"~5 OR \"moth population\"~5 OR \"biological diversity\" OR biodiversity OR biomass OR ecolog* OR ecosystem* OR entomolog*) AND (study OR professor OR experiment OR research OR analysis OR data)) AND (source_name:BulkLexisNexis)\n",
    "    \"\"\"}\n",
    "]"
   ]
  },
  {
   "cell_type": "markdown",
   "metadata": {},
   "source": [
    "note: this list of query dictionaries is meant to be used with the filter_results function (and when prune=True for run_all_queries).\n",
    "\n",
    "After running a statistical analysis to compare pruned vs un-pruned data, we decided to not prune the data because there was no effect on the final analysis, and explaining the pruning process would be too complicated."
   ]
  },
  {
   "cell_type": "code",
   "execution_count": null,
   "metadata": {},
   "outputs": [],
   "source": [
    "all_queries_pruned = [\n",
    "    {'name': 'insect_population_pruned',\n",
    "    'query': \n",
    "    \"\"\"\n",
    "    (content: (insect OR pollinator OR bee OR honeybee OR moth)^5 AND (\"insect population\"~5 OR \"pollinator population\"~5 OR \"bee population\"~5 OR \"honeybee population\"~5 OR \"moth population\"~5 OR \"biological diversity\" OR biodiversity OR biomass OR ecolog* OR ecosystem* OR entomolog*)^5 AND (study OR professor OR experiment OR research OR analysis OR data)) AND (source_name:BulkLexisNexis)^0.00001\n",
    "    \"\"\", \n",
    "    'add_fields': ['score'],\n",
    "    'filter_method': ('score', 35.73716)},\n",
    "    {'name': 'insect_decline_pruned',\n",
    "    'query': \n",
    "    \"\"\"\n",
    "    (content: (insect OR pollinator OR bee OR honeybee OR moth)^5 AND (\"insect population\"~5 OR \"pollinator population\"~5 OR \"bee population\"~5 OR \"honeybee population\"~5 OR \"moth population\"~5 OR \"biological diversity\" OR biodiversity OR biomass OR ecolog* OR ecosystem* OR entomolog*)^5 AND (study OR professor OR experiment OR research OR analysis OR data) AND (crisis OR \"colony collapse\" OR apocalypse OR armageddon OR extinct OR \"insect decline\"~5 OR \"insect drop\"~5 OR \"insect decrease\"~5 OR \"insect disappear\"~5 OR \"population decline\"~5 OR \"population drop\"~5 OR \"population decrease\"~5 OR \"population disappear\"~5 OR \"abundance decline\"~5 OR \"abundance drop\"~5 OR \"abundance decrease\"~5 OR \"abundance disappear\"~5)) AND (source_name:BulkLexisNexis)^0.00001\n",
    "    \"\"\", \n",
    "    'add_fields': ['score'],\n",
    "    'filter_method': ('score', 34.896996)},\n",
    "    {'name': 'pollinator_population_pruned',\n",
    "    'query': \n",
    "    \"\"\"\n",
    "    (content: ((insect AND pollinator) OR (bee OR honeybee OR moth))^5 AND (\"insect population\"~5 OR \"pollinator population\"~5 OR \"bee population\"~5 OR \"honeybee population\"~5 OR \"moth population\"~5 OR \"biological diversity\" OR biodiversity OR biomass OR ecolog* OR ecosystem* OR entomolog*)^5 AND (study OR professor OR experiment OR research OR analysis OR data)) AND (source_name:BulkLexisNexis)^0.00001\n",
    "    \"\"\", \n",
    "    'add_fields': ['score'],\n",
    "    'filter_method': ('score', 32.83181)},\n",
    "    {'name': 'pollinator_decline_pruned',\n",
    "    'query': \n",
    "    \"\"\"\n",
    "    (content: ((insect AND pollinator) OR (bee OR honeybee OR moth))^5 AND (\"insect population\"~5 OR \"pollinator population\"~5 OR \"bee population\"~5 OR \"honeybee population\"~5 OR \"moth population\"~5 OR \"biological diversity\" OR biodiversity OR biomass OR ecolog* OR ecosystem* OR entomolog*)^5 AND (study OR professor OR experiment OR research OR analysis OR data) AND (crisis OR \"colony collapse\" OR apocalypse OR armageddon OR extinct OR \"insect decline\"~5 OR \"insect drop\"~5 OR \"insect decrease\"~5 OR \"insect disappear\"~5 OR \"population decline\"~5 OR \"population drop\"~5 OR \"population decrease\"~5 OR \"population disappear\"~5 OR \"abundance decline\"~5 OR \"abundance drop\"~5 OR \"abundance decrease\"~5 OR \"abundance disappear\"~5)) AND (source_name:BulkLexisNexis)^0.00001\n",
    "    \"\"\", \n",
    "    'add_fields': ['score'],\n",
    "    'filter_method': ('score', 30.817253)},\n",
    "    {'name': 'climate_change_pruned', \n",
    "     'query': \n",
    "    \"\"\"\n",
    "    (content:\"climate change\" OR \"global warming\") AND source_name:BulkLexisNexis\n",
    "    \"\"\", \n",
    "    'add_fields': ['termfreq(content, climate)', 'termfreq(content, warming)'],\n",
    "    'filter_method': ('termfreq', 2)}\n",
    "]"
   ]
  },
  {
   "cell_type": "markdown",
   "metadata": {},
   "source": [
    "## Create Time-Series dataset"
   ]
  },
  {
   "cell_type": "code",
   "execution_count": 8,
   "metadata": {},
   "outputs": [
    {
     "name": "stdout",
     "output_type": "stream",
     "text": [
      "Success! Your query returned 9948 documents.\n",
      "Success! Your query returned 2223 documents.\n",
      "Success! Your query returned 3842 documents.\n",
      "Success! Your query returned 1063 documents.\n",
      "Success! Your query returned 34 documents.\n",
      "Success! Your query returned 481 documents.\n",
      "Success! Your query returned 196365 documents.\n",
      "Success! Your query returned 4679 documents.\n",
      "Success! Your query returned 118 documents.\n"
     ]
    }
   ],
   "source": [
    "query_df = run_all_queries(all_queries, ts_fields, base_ts)"
   ]
  },
  {
   "cell_type": "code",
   "execution_count": 9,
   "metadata": {},
   "outputs": [],
   "source": [
    "query_df = query_df.reset_index()"
   ]
  },
  {
   "cell_type": "code",
   "execution_count": 10,
   "metadata": {},
   "outputs": [],
   "source": [
    "query_df.publisher = query_df.publisher.map(pubmap)"
   ]
  },
  {
   "cell_type": "code",
   "execution_count": 11,
   "metadata": {},
   "outputs": [],
   "source": [
    "query_df.to_csv(\"../Data/query_results_bln-ts_26Feb.csv\", index=False)"
   ]
  },
  {
   "cell_type": "markdown",
   "metadata": {},
   "source": [
    "## Create article-level dataset to compare articles across queries"
   ]
  },
  {
   "cell_type": "code",
   "execution_count": 12,
   "metadata": {},
   "outputs": [
    {
     "name": "stdout",
     "output_type": "stream",
     "text": [
      "Success! Your query returned 9948 documents.\n",
      "Success! Your query returned 2223 documents.\n",
      "Success! Your query returned 3842 documents.\n",
      "Success! Your query returned 1063 documents.\n",
      "Success! Your query returned 34 documents.\n",
      "Success! Your query returned 481 documents.\n",
      "Success! Your query returned 196365 documents.\n",
      "Success! Your query returned 4679 documents.\n",
      "Success! Your query returned 118 documents.\n"
     ]
    }
   ],
   "source": [
    "article_dfs = []\n",
    "for q in all_queries:\n",
    "    result = query_solr(q['query'], ['aid', 'publisher', 'publication_date', 'title', 'url'])\n",
    "    qname = q['name']\n",
    "    result[qname] = 1\n",
    "    article_dfs.append(result)"
   ]
  },
  {
   "cell_type": "code",
   "execution_count": 13,
   "metadata": {},
   "outputs": [],
   "source": [
    "article_df = article_dfs[0]\n",
    "for df in article_dfs[1:]:\n",
    "    article_df = article_df.merge(df, on=['aid', 'publication_date', 'publisher', 'title', 'url'], how = 'outer')\n",
    "article_df = article_df.fillna(0)"
   ]
  },
  {
   "cell_type": "code",
   "execution_count": 14,
   "metadata": {},
   "outputs": [],
   "source": [
    "article_df = article_df.astype(int, errors='ignore')"
   ]
  },
  {
   "cell_type": "code",
   "execution_count": 15,
   "metadata": {},
   "outputs": [],
   "source": [
    "article_df.publisher = article_df.publisher.map(pubmap)"
   ]
  },
  {
   "cell_type": "code",
   "execution_count": 18,
   "metadata": {},
   "outputs": [],
   "source": [
    "article_df['publication_date'] = pd.to_datetime(article_df['publication_date'].astype('str').str[:10], format='%Y-%m-%d', errors='coerce')"
   ]
  },
  {
   "cell_type": "code",
   "execution_count": 16,
   "metadata": {},
   "outputs": [],
   "source": [
    "bad_publisher_mask = article_df[article_df['publisher'].isin(['IPS', 'UPI', 'SWB'])].index\n",
    "article_df = article_df.drop(bad_publisher_mask)"
   ]
  },
  {
   "cell_type": "code",
   "execution_count": 23,
   "metadata": {},
   "outputs": [],
   "source": [
    "bad_date_mask = article_df[article_df['publication_date'].isna()].index\n",
    "article_df = article_df.drop(bad_date_mask)"
   ]
  },
  {
   "cell_type": "code",
   "execution_count": 25,
   "metadata": {},
   "outputs": [],
   "source": [
    "article_df = article_df.sort_values(by=['publisher', 'publication_date'])"
   ]
  },
  {
   "cell_type": "code",
   "execution_count": 26,
   "metadata": {},
   "outputs": [
    {
     "data": {
      "text/html": [
       "<div>\n",
       "<style scoped>\n",
       "    .dataframe tbody tr th:only-of-type {\n",
       "        vertical-align: middle;\n",
       "    }\n",
       "\n",
       "    .dataframe tbody tr th {\n",
       "        vertical-align: top;\n",
       "    }\n",
       "\n",
       "    .dataframe thead th {\n",
       "        text-align: right;\n",
       "    }\n",
       "</style>\n",
       "<table border=\"1\" class=\"dataframe\">\n",
       "  <thead>\n",
       "    <tr style=\"text-align: right;\">\n",
       "      <th></th>\n",
       "      <th>title</th>\n",
       "      <th>publisher</th>\n",
       "      <th>publication_date</th>\n",
       "      <th>aid</th>\n",
       "      <th>url</th>\n",
       "      <th>insect_population</th>\n",
       "      <th>insect_decline</th>\n",
       "      <th>pollinator_population</th>\n",
       "      <th>pollinator_decline</th>\n",
       "      <th>insect_apocalypse</th>\n",
       "      <th>colony_collapse</th>\n",
       "      <th>climate_change</th>\n",
       "      <th>climate_change_IPCCreport</th>\n",
       "      <th>insect_population_studies</th>\n",
       "    </tr>\n",
       "  </thead>\n",
       "  <tbody>\n",
       "    <tr>\n",
       "      <th>120020</th>\n",
       "      <td>Forty dead in flooding in eastern Turkey</td>\n",
       "      <td>AFP</td>\n",
       "      <td>1991-05-17</td>\n",
       "      <td>20190301235543664</td>\n",
       "      <td>https://advance.lexis.com/api/document?collect...</td>\n",
       "      <td>0</td>\n",
       "      <td>0</td>\n",
       "      <td>0</td>\n",
       "      <td>0</td>\n",
       "      <td>0</td>\n",
       "      <td>0</td>\n",
       "      <td>1</td>\n",
       "      <td>0</td>\n",
       "      <td>0</td>\n",
       "    </tr>\n",
       "    <tr>\n",
       "      <th>120022</th>\n",
       "      <td>Czechoslovakia lighthouse of reform: minister</td>\n",
       "      <td>AFP</td>\n",
       "      <td>1991-05-31</td>\n",
       "      <td>20190301235551744</td>\n",
       "      <td>https://advance.lexis.com/api/document?collect...</td>\n",
       "      <td>0</td>\n",
       "      <td>0</td>\n",
       "      <td>0</td>\n",
       "      <td>0</td>\n",
       "      <td>0</td>\n",
       "      <td>0</td>\n",
       "      <td>1</td>\n",
       "      <td>0</td>\n",
       "      <td>0</td>\n",
       "    </tr>\n",
       "    <tr>\n",
       "      <th>149257</th>\n",
       "      <td>Oil consumers to boost stocks, better relation...</td>\n",
       "      <td>AFP</td>\n",
       "      <td>1991-06-03</td>\n",
       "      <td>20190302000102692</td>\n",
       "      <td>https://advance.lexis.com/api/document?collect...</td>\n",
       "      <td>0</td>\n",
       "      <td>0</td>\n",
       "      <td>0</td>\n",
       "      <td>0</td>\n",
       "      <td>0</td>\n",
       "      <td>0</td>\n",
       "      <td>1</td>\n",
       "      <td>0</td>\n",
       "      <td>0</td>\n",
       "    </tr>\n",
       "    <tr>\n",
       "      <th>120021</th>\n",
       "      <td>Rising seas pose major threat to Pacific islands</td>\n",
       "      <td>AFP</td>\n",
       "      <td>1991-06-09</td>\n",
       "      <td>20190301235841326</td>\n",
       "      <td>https://advance.lexis.com/api/document?collect...</td>\n",
       "      <td>0</td>\n",
       "      <td>0</td>\n",
       "      <td>0</td>\n",
       "      <td>0</td>\n",
       "      <td>0</td>\n",
       "      <td>0</td>\n",
       "      <td>1</td>\n",
       "      <td>0</td>\n",
       "      <td>0</td>\n",
       "    </tr>\n",
       "    <tr>\n",
       "      <th>29148</th>\n",
       "      <td>Indonesian group criticizes U.S. over global w...</td>\n",
       "      <td>AFP</td>\n",
       "      <td>1991-06-11</td>\n",
       "      <td>20190301235840927</td>\n",
       "      <td>https://advance.lexis.com/api/document?collect...</td>\n",
       "      <td>0</td>\n",
       "      <td>0</td>\n",
       "      <td>0</td>\n",
       "      <td>0</td>\n",
       "      <td>0</td>\n",
       "      <td>0</td>\n",
       "      <td>1</td>\n",
       "      <td>0</td>\n",
       "      <td>0</td>\n",
       "    </tr>\n",
       "    <tr>\n",
       "      <th>...</th>\n",
       "      <td>...</td>\n",
       "      <td>...</td>\n",
       "      <td>...</td>\n",
       "      <td>...</td>\n",
       "      <td>...</td>\n",
       "      <td>...</td>\n",
       "      <td>...</td>\n",
       "      <td>...</td>\n",
       "      <td>...</td>\n",
       "      <td>...</td>\n",
       "      <td>...</td>\n",
       "      <td>...</td>\n",
       "      <td>...</td>\n",
       "      <td>...</td>\n",
       "    </tr>\n",
       "    <tr>\n",
       "      <th>55678</th>\n",
       "      <td>Ex-Ethiopian PM urges Africa to embrace tech t...</td>\n",
       "      <td>XGNS</td>\n",
       "      <td>2019-08-16</td>\n",
       "      <td>20190830211535140</td>\n",
       "      <td>https://advance.lexis.com/api/document?collect...</td>\n",
       "      <td>0</td>\n",
       "      <td>0</td>\n",
       "      <td>0</td>\n",
       "      <td>0</td>\n",
       "      <td>0</td>\n",
       "      <td>0</td>\n",
       "      <td>1</td>\n",
       "      <td>0</td>\n",
       "      <td>0</td>\n",
       "    </tr>\n",
       "    <tr>\n",
       "      <th>53822</th>\n",
       "      <td>Xinhua Asia-Pacific news summary at 1600 GMT, ...</td>\n",
       "      <td>XGNS</td>\n",
       "      <td>2019-08-17</td>\n",
       "      <td>20190831000249345</td>\n",
       "      <td>https://advance.lexis.com/api/document?collect...</td>\n",
       "      <td>0</td>\n",
       "      <td>0</td>\n",
       "      <td>0</td>\n",
       "      <td>0</td>\n",
       "      <td>0</td>\n",
       "      <td>0</td>\n",
       "      <td>1</td>\n",
       "      <td>0</td>\n",
       "      <td>0</td>\n",
       "    </tr>\n",
       "    <tr>\n",
       "      <th>129066</th>\n",
       "      <td>1st LD: China, France should work together to ...</td>\n",
       "      <td>XGNS</td>\n",
       "      <td>2019-08-18</td>\n",
       "      <td>20190901000258420</td>\n",
       "      <td>https://advance.lexis.com/api/document?collect...</td>\n",
       "      <td>0</td>\n",
       "      <td>0</td>\n",
       "      <td>0</td>\n",
       "      <td>0</td>\n",
       "      <td>0</td>\n",
       "      <td>0</td>\n",
       "      <td>1</td>\n",
       "      <td>0</td>\n",
       "      <td>0</td>\n",
       "    </tr>\n",
       "    <tr>\n",
       "      <th>147207</th>\n",
       "      <td>Feature: Italy agricultural sector facing setb...</td>\n",
       "      <td>XGNS</td>\n",
       "      <td>2019-08-18</td>\n",
       "      <td>20190901000258414</td>\n",
       "      <td>https://advance.lexis.com/api/document?collect...</td>\n",
       "      <td>0</td>\n",
       "      <td>0</td>\n",
       "      <td>0</td>\n",
       "      <td>0</td>\n",
       "      <td>0</td>\n",
       "      <td>0</td>\n",
       "      <td>1</td>\n",
       "      <td>0</td>\n",
       "      <td>0</td>\n",
       "    </tr>\n",
       "    <tr>\n",
       "      <th>147208</th>\n",
       "      <td>2nd LD Writethru: China, France should work to...</td>\n",
       "      <td>XGNS</td>\n",
       "      <td>2019-08-18</td>\n",
       "      <td>20190901000258418</td>\n",
       "      <td>https://advance.lexis.com/api/document?collect...</td>\n",
       "      <td>0</td>\n",
       "      <td>0</td>\n",
       "      <td>0</td>\n",
       "      <td>0</td>\n",
       "      <td>0</td>\n",
       "      <td>0</td>\n",
       "      <td>1</td>\n",
       "      <td>0</td>\n",
       "      <td>0</td>\n",
       "    </tr>\n",
       "  </tbody>\n",
       "</table>\n",
       "<p>174341 rows × 14 columns</p>\n",
       "</div>"
      ],
      "text/plain": [
       "                                                    title publisher  \\\n",
       "120020           Forty dead in flooding in eastern Turkey       AFP   \n",
       "120022      Czechoslovakia lighthouse of reform: minister       AFP   \n",
       "149257  Oil consumers to boost stocks, better relation...       AFP   \n",
       "120021   Rising seas pose major threat to Pacific islands       AFP   \n",
       "29148   Indonesian group criticizes U.S. over global w...       AFP   \n",
       "...                                                   ...       ...   \n",
       "55678   Ex-Ethiopian PM urges Africa to embrace tech t...      XGNS   \n",
       "53822   Xinhua Asia-Pacific news summary at 1600 GMT, ...      XGNS   \n",
       "129066  1st LD: China, France should work together to ...      XGNS   \n",
       "147207  Feature: Italy agricultural sector facing setb...      XGNS   \n",
       "147208  2nd LD Writethru: China, France should work to...      XGNS   \n",
       "\n",
       "       publication_date                aid  \\\n",
       "120020       1991-05-17  20190301235543664   \n",
       "120022       1991-05-31  20190301235551744   \n",
       "149257       1991-06-03  20190302000102692   \n",
       "120021       1991-06-09  20190301235841326   \n",
       "29148        1991-06-11  20190301235840927   \n",
       "...                 ...                ...   \n",
       "55678        2019-08-16  20190830211535140   \n",
       "53822        2019-08-17  20190831000249345   \n",
       "129066       2019-08-18  20190901000258420   \n",
       "147207       2019-08-18  20190901000258414   \n",
       "147208       2019-08-18  20190901000258418   \n",
       "\n",
       "                                                      url  insect_population  \\\n",
       "120020  https://advance.lexis.com/api/document?collect...                  0   \n",
       "120022  https://advance.lexis.com/api/document?collect...                  0   \n",
       "149257  https://advance.lexis.com/api/document?collect...                  0   \n",
       "120021  https://advance.lexis.com/api/document?collect...                  0   \n",
       "29148   https://advance.lexis.com/api/document?collect...                  0   \n",
       "...                                                   ...                ...   \n",
       "55678   https://advance.lexis.com/api/document?collect...                  0   \n",
       "53822   https://advance.lexis.com/api/document?collect...                  0   \n",
       "129066  https://advance.lexis.com/api/document?collect...                  0   \n",
       "147207  https://advance.lexis.com/api/document?collect...                  0   \n",
       "147208  https://advance.lexis.com/api/document?collect...                  0   \n",
       "\n",
       "        insect_decline  pollinator_population  pollinator_decline  \\\n",
       "120020               0                      0                   0   \n",
       "120022               0                      0                   0   \n",
       "149257               0                      0                   0   \n",
       "120021               0                      0                   0   \n",
       "29148                0                      0                   0   \n",
       "...                ...                    ...                 ...   \n",
       "55678                0                      0                   0   \n",
       "53822                0                      0                   0   \n",
       "129066               0                      0                   0   \n",
       "147207               0                      0                   0   \n",
       "147208               0                      0                   0   \n",
       "\n",
       "        insect_apocalypse  colony_collapse  climate_change  \\\n",
       "120020                  0                0               1   \n",
       "120022                  0                0               1   \n",
       "149257                  0                0               1   \n",
       "120021                  0                0               1   \n",
       "29148                   0                0               1   \n",
       "...                   ...              ...             ...   \n",
       "55678                   0                0               1   \n",
       "53822                   0                0               1   \n",
       "129066                  0                0               1   \n",
       "147207                  0                0               1   \n",
       "147208                  0                0               1   \n",
       "\n",
       "        climate_change_IPCCreport  insect_population_studies  \n",
       "120020                          0                          0  \n",
       "120022                          0                          0  \n",
       "149257                          0                          0  \n",
       "120021                          0                          0  \n",
       "29148                           0                          0  \n",
       "...                           ...                        ...  \n",
       "55678                           0                          0  \n",
       "53822                           0                          0  \n",
       "129066                          0                          0  \n",
       "147207                          0                          0  \n",
       "147208                          0                          0  \n",
       "\n",
       "[174341 rows x 14 columns]"
      ]
     },
     "execution_count": 26,
     "metadata": {},
     "output_type": "execute_result"
    }
   ],
   "source": [
    "article_df"
   ]
  },
  {
   "cell_type": "code",
   "execution_count": 27,
   "metadata": {},
   "outputs": [],
   "source": [
    "article_df.to_csv(\"../Data/Analyze/BLNqueries_compare_article-level_26Feb.csv\", index=False)"
   ]
  },
  {
   "cell_type": "code",
   "execution_count": 22,
   "metadata": {},
   "outputs": [],
   "source": [
    "article_df['aid'].to_csv(\"../Data/Metadata/aids_for_metadata_request.csv\", index=False)"
   ]
  },
  {
   "cell_type": "code",
   "execution_count": null,
   "metadata": {},
   "outputs": [],
   "source": []
  }
 ],
 "metadata": {
  "kernelspec": {
   "display_name": "beepocalypse-project",
   "language": "python",
   "name": "beepocalypse-project"
  },
  "language_info": {
   "codemirror_mode": {
    "name": "ipython",
    "version": 3
   },
   "file_extension": ".py",
   "mimetype": "text/x-python",
   "name": "python",
   "nbconvert_exporter": "python",
   "pygments_lexer": "ipython3",
   "version": "3.8.1"
  }
 },
 "nbformat": 4,
 "nbformat_minor": 2
}
