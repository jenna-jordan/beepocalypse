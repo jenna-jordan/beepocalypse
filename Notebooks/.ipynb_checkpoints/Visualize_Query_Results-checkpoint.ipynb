{
 "cells": [
  {
   "cell_type": "markdown",
   "metadata": {},
   "source": [
    "# Visualize Query Results\n",
    "\n",
    "Jenna Jordan\n",
    "\n",
    "23 January 2020 - 11 February 2020\n",
    "\n",
    "### Purpose\n",
    "\n",
    "This interactive visualization tool enables the researchers to explore the monthly time-series data across queries and publishers, to visually inspect for trends and decide which queries to use in the final analysis."
   ]
  },
  {
   "cell_type": "code",
   "execution_count": 1,
   "metadata": {},
   "outputs": [],
   "source": [
    "import pandas as pd\n",
    "import numpy as np\n",
    "import ipywidgets as widgets\n",
    "import plotly.express as px\n",
    "from IPython.display import display\n",
    "from IPython.display import clear_output"
   ]
  },
  {
   "cell_type": "code",
   "execution_count": 2,
   "metadata": {},
   "outputs": [],
   "source": [
    "df_bln_6pubs = pd.read_csv(\"../Data/Visualize/bln-queries_6pubs_26Feb.csv\", parse_dates=['publication_date'], dtype={'publisher':'category'})"
   ]
  },
  {
   "cell_type": "markdown",
   "metadata": {},
   "source": [
    "## Queries - BulkLexisNexis, 1977-2019\n",
    "\n",
    "#### BLN_total\n",
    "\n",
    "```\n",
    "(content:*) \n",
    "AND source_name:BulkLexisNexis\n",
    "```\n",
    "\n",
    "#### insect_population\n",
    "\n",
    "```\n",
    "(content: \n",
    "    (insect OR pollinator OR bee OR honeybee OR moth) \n",
    "    AND (\"insect population\"~5 OR \"pollinator population\"~5 OR \"bee population\"~5 OR \"honeybee population\"~5 OR \"moth population\"~5 OR \"biological diversity\" OR biodiversity OR biomass OR ecolog* OR ecosystem* OR entomolog*) \n",
    "    AND (study OR professor OR experiment OR research OR analysis OR data)\n",
    " ) \n",
    "AND (source_name:BulkLexisNexis)\n",
    "\n",
    "```\n",
    "\n",
    "#### insect_decline\n",
    "\n",
    "```\n",
    "(content: \n",
    "    (insect OR pollinator OR bee OR honeybee OR moth) \n",
    "    AND (\"insect population\"~5 OR \"pollinator population\"~5 OR \"bee population\"~5 OR \"honeybee population\"~5 OR \"moth population\"~5 OR \"biological diversity\" OR biodiversity OR biomass OR ecolog* OR ecosystem* OR entomolog*) \n",
    "    AND (study OR professor OR experiment OR research OR analysis OR data) \n",
    "    AND (crisis OR \"colony collapse\" OR apocalypse OR armageddon OR extinct OR \"insect decline\"~5 OR \"insect drop\"~5 OR \"insect decrease\"~5 OR \"insect disappear\"~5 OR \"population decline\"~5 OR \"population drop\"~5 OR \"population decrease\"~5 OR \"population disappear\"~5 OR \"abundance decline\"~5 OR \"abundance drop\"~5 OR \"abundance decrease\"~5 OR \"abundance disappear\"~5)\n",
    ") \n",
    "AND (source_name:BulkLexisNexis)\n",
    "\n",
    "```\n",
    "\n",
    "#### pollinator_population\n",
    "\n",
    "```\n",
    "(content: \n",
    "    ((insect AND pollinator) OR (bee OR honeybee OR moth)) \n",
    "    AND (\"insect population\"~5 OR \"pollinator population\"~5 OR \"bee population\"~5 OR \"honeybee population\"~5 OR \"moth population\"~5 OR \"biological diversity\" OR biodiversity OR biomass OR ecolog* OR ecosystem* OR entomolog*) \n",
    "    AND (study OR professor OR experiment OR research OR analysis OR data)\n",
    ") \n",
    "AND (source_name:BulkLexisNexis)\n",
    "\n",
    "```\n",
    "\n",
    "#### pollinator_decline\n",
    "\n",
    "```\n",
    "(content: \n",
    "    ((insect AND pollinator) OR (bee OR honeybee OR moth)) \n",
    "    AND (\"insect population\"~5 OR \"pollinator population\"~5 OR \"bee population\"~5 OR \"honeybee population\"~5 OR \"moth population\"~5 OR \"biological diversity\" OR biodiversity OR biomass OR ecolog* OR ecosystem* OR entomolog*) \n",
    "    AND (study OR professor OR experiment OR research OR analysis OR data) \n",
    "    AND (crisis OR \"colony collapse\" OR apocalypse OR armageddon OR extinct OR \"insect decline\"~5 OR \"insect drop\"~5 OR \"insect decrease\"~5 OR \"insect disappear\"~5 OR \"population decline\"~5 OR \"population drop\"~5 OR \"population decrease\"~5 OR \"population disappear\"~5 OR \"abundance decline\"~5 OR \"abundance drop\"~5 OR \"abundance decrease\"~5 OR \"abundance disappear\"~5)\n",
    ") \n",
    "AND (source_name:BulkLexisNexis)\n",
    "\n",
    "```\n",
    "\n",
    "#### insect_apocalypse\n",
    "\n",
    "```\n",
    "(content:\"insect apocalypse\"~5 OR \"insect armageddon\"~5 OR \"beepocalypse\") \n",
    "AND (source_name:BulkLexisNexis)\n",
    "```\n",
    "\n",
    "#### colony_collapse\n",
    "\n",
    "```\n",
    "(content:\"colony collapse\" AND (bee OR honeybee)) \n",
    "AND (source_name:BulkLexisNexis)\n",
    "```\n",
    "\n",
    "#### climate_change\n",
    "\n",
    "```\n",
    "(content:\"climate change\" OR \"global warming\") \n",
    "AND (source_name:BulkLexisNexis)\n",
    "```\n",
    "\n",
    "#### climate_change_IPCCreport\n",
    "\n",
    "```\n",
    "(content:\n",
    "    (\"climate change\" OR \"global warming\") \n",
    "    AND (\"IPCC\" OR \"Intergovernmental Panel on Climate Change\") \n",
    "    AND report\n",
    ") \n",
    "AND (source_name:BulkLexisNexis)\n",
    "```\n",
    "\n",
    "#### insect_population_studies\n",
    "\n",
    "```\n",
    "(content: \n",
    "    (\"Krefeld\" OR \"the German study\" OR \"Hans de Kroon\" OR \"Martin Sorg\" OR \"Werner Stenmans\" OR \"Dave Goulson\" OR \"Brad Lister\" OR \"Andres Garcia\" OR \"the Puerto Rico study\" OR \"S?nchez-Bayo\" OR \"Wyckhuys\" OR \"Rob Dunn\" OR \"David Wagner\" OR \"Chris Thomas\" OR \"Anders Tottrup\" OR \"Kevin Gaston\" OR \"Chris Thomas\" OR \"Roel van Klink\" OR \"Arthur Shapiro\" OR \"Aletta Bonn\" OR \"E.O. Wilson\") \n",
    "    AND (insect OR pollinator OR bee OR honeybee OR moth) \n",
    "    AND (\"insect population\"~5 OR \"pollinator population\"~5 OR \"bee population\"~5 OR \"honeybee population\"~5 OR \"moth population\"~5 OR \"biological diversity\" OR biodiversity OR biomass OR ecolog* OR ecosystem* OR entomolog*) \n",
    "    AND (study OR professor OR experiment OR research OR analysis OR data)\n",
    ") \n",
    "AND (source_name:BulkLexisNexis)\n",
    "```"
   ]
  },
  {
   "cell_type": "code",
   "execution_count": 3,
   "metadata": {},
   "outputs": [],
   "source": [
    "publisher_options = [('New York Times', 'NYT'), ('Washington Post', 'WP'), ('Associated Press', 'AP'), \n",
    "                     ('Agence France Presse', 'AFP'), ('Xinhua General News Service', 'XGNS'), \n",
    "                     ('Deutsche Presse-Agentur', 'DPA')]\n",
    "query_options = list(df_bln_6pubs['query'].unique())"
   ]
  },
  {
   "cell_type": "code",
   "execution_count": 4,
   "metadata": {},
   "outputs": [],
   "source": [
    "choose_CountOrProp = widgets.ToggleButtons(\n",
    "    options=[('Count', 'count'), ('Proportion', 'proportion')],\n",
    "    description='Article: ', layout=widgets.Layout(width='25%')\n",
    ")"
   ]
  },
  {
   "cell_type": "code",
   "execution_count": 5,
   "metadata": {},
   "outputs": [],
   "source": [
    "choose_comparison = widgets.ToggleButtons(\n",
    "    options=[('Queries', 'publisher'), ('Publishers', 'query')],\n",
    "    description='Compare: ', layout=widgets.Layout(width='25%')\n",
    ")"
   ]
  },
  {
   "cell_type": "code",
   "execution_count": 6,
   "metadata": {},
   "outputs": [],
   "source": [
    "choose_filter = widgets.Dropdown(options=publisher_options, description='Choose: ', layout=widgets.Layout(width='25%'))"
   ]
  },
  {
   "cell_type": "code",
   "execution_count": 7,
   "metadata": {},
   "outputs": [],
   "source": [
    "plot_button = widgets.Button(description=\"Plot\")"
   ]
  },
  {
   "cell_type": "code",
   "execution_count": 8,
   "metadata": {},
   "outputs": [],
   "source": [
    "clear_button = widgets.Button(description=\"Clear plots\")"
   ]
  },
  {
   "cell_type": "code",
   "execution_count": 10,
   "metadata": {},
   "outputs": [],
   "source": [
    "# set up control box organization\n",
    "buttons = widgets.VBox(children=[plot_button, clear_button], layout=widgets.Layout(width='25%'))\n",
    "graph_controls = widgets.HBox(children=[choose_CountOrProp, choose_comparison, choose_filter, buttons])\n",
    "\n",
    "# if \"Compare\" changes, change the options for \"Choose\"\n",
    "def change_graph_controls(change):\n",
    "    graph_comparison_type = change['new']\n",
    "    if graph_comparison_type == 'publisher':\n",
    "        choose_filter.options = publisher_options\n",
    "    elif graph_comparison_type == 'query':\n",
    "        choose_filter.options = query_options\n",
    "\n",
    "choose_comparison.observe(change_graph_controls, ['value'])\n",
    "\n",
    "# function to create the plot\n",
    "def create_plot(query_column = choose_comparison.value, query_value = choose_filter.value, y_axis = choose_CountOrProp.value):\n",
    "    if query_column  == 'publisher':\n",
    "        color = 'query'\n",
    "    elif query_column  == 'query':\n",
    "        color = 'publisher'\n",
    "    \n",
    "    query_text = query_column + \"=='\" + query_value + \"'\"\n",
    "    title_text = query_column + \": \" + query_value\n",
    "    \n",
    "    fig = px.line(df_bln_6pubs.query(query_text), x=\"publication_date\", y=y_axis, color=color, title=title_text)\n",
    "    \n",
    "    fig.update_layout(xaxis_rangeslider_visible=True)\n",
    "    \n",
    "    return fig\n",
    "\n",
    "out = widgets.Output()\n",
    "with out:\n",
    "    display(graph_controls)\n",
    "\n",
    "# when \"add chart\" button is clicked, add new chart below\n",
    "def add_plot(b):\n",
    "    with out:\n",
    "        fig = create_plot(query_column = choose_comparison.value, query_value = choose_filter.value, y_axis = choose_CountOrProp.value)\n",
    "        display(fig)\n",
    "\n",
    "plot_button.on_click(add_plot)\n",
    "\n",
    "# when \"new plot\" button is clicked, clear all plots and generate a new plot\n",
    "def clear_plots(b):\n",
    "    with out:\n",
    "        out.clear_output()\n",
    "        display(graph_controls)\n",
    "    \n",
    "clear_button.on_click(clear_plots)"
   ]
  },
  {
   "cell_type": "code",
   "execution_count": 11,
   "metadata": {},
   "outputs": [
    {
     "data": {
      "application/vnd.jupyter.widget-view+json": {
       "model_id": "5c8349b39794495a9ddab7e4514d9ad2",
       "version_major": 2,
       "version_minor": 0
      },
      "text/plain": [
       "Output(outputs=({'output_type': 'display_data', 'data': {'text/plain': \"HBox(children=(ToggleButtons(descripti…"
      ]
     },
     "metadata": {},
     "output_type": "display_data"
    }
   ],
   "source": [
    "display(out)"
   ]
  },
  {
   "cell_type": "code",
   "execution_count": null,
   "metadata": {},
   "outputs": [],
   "source": []
  }
 ],
 "metadata": {
  "kernelspec": {
   "display_name": "beepocalypse-project",
   "language": "python",
   "name": "beepocalypse-project"
  },
  "language_info": {
   "codemirror_mode": {
    "name": "ipython",
    "version": 3
   },
   "file_extension": ".py",
   "mimetype": "text/x-python",
   "name": "python",
   "nbconvert_exporter": "python",
   "pygments_lexer": "ipython3",
   "version": "3.8.1"
  }
 },
 "nbformat": 4,
 "nbformat_minor": 2
}
