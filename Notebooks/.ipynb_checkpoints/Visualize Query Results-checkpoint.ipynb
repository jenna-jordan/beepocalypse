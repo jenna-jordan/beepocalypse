{
 "cells": [
  {
   "cell_type": "markdown",
   "metadata": {},
   "source": [
    "# Visualize Query Results\n",
    "\n",
    "Jenna Jordan\n",
    "\n",
    "23 January 2020 - 4 February 2020"
   ]
  },
  {
   "cell_type": "code",
   "execution_count": 1,
   "metadata": {},
   "outputs": [],
   "source": [
    "import pandas as pd\n",
    "import numpy as np\n",
    "import ipywidgets as widgets\n",
    "import plotly.express as px\n",
    "from IPython.display import display\n",
    "from IPython.display import clear_output"
   ]
  },
  {
   "cell_type": "code",
   "execution_count": 80,
   "metadata": {},
   "outputs": [],
   "source": [
    "df = pd.read_csv('../Data/queries_4Feb.csv', parse_dates=['publication_date'], dtype={'publisher':'category'})"
   ]
  },
  {
   "cell_type": "code",
   "execution_count": 81,
   "metadata": {},
   "outputs": [
    {
     "data": {
      "text/plain": [
       "publication_date         datetime64[ns]\n",
       "publisher                      category\n",
       "BLN_total                       float64\n",
       "climate_change                  float64\n",
       "global_warming                  float64\n",
       "pollinator_population           float64\n",
       "pollinator_crisis               float64\n",
       "dtype: object"
      ]
     },
     "execution_count": 81,
     "metadata": {},
     "output_type": "execute_result"
    }
   ],
   "source": [
    "df.dtypes"
   ]
  },
  {
   "cell_type": "code",
   "execution_count": 82,
   "metadata": {},
   "outputs": [],
   "source": [
    "df = df.set_index('publication_date').groupby('publisher').resample('M').sum()"
   ]
  },
  {
   "cell_type": "code",
   "execution_count": 83,
   "metadata": {},
   "outputs": [],
   "source": [
    "df_count = df.stack().to_frame()\n",
    "df_count.columns = ['count']\n",
    "df_count.index.names = ['publisher', 'publication_date', 'query']\n",
    "df_count = df_count.reset_index(['publication_date', 'publisher', 'query'])"
   ]
  },
  {
   "cell_type": "code",
   "execution_count": 84,
   "metadata": {},
   "outputs": [],
   "source": [
    "df_prop = df.copy()\n",
    "for c in df_prop.columns:\n",
    "    if c == 'BLN_total':\n",
    "        pass\n",
    "    else:\n",
    "        df_prop[c] = df_prop[c] / df_prop.BLN_total\n",
    "df_prop = df_prop.drop(columns=['BLN_total'])\n",
    "\n",
    "df_prop = df_prop.stack().to_frame()\n",
    "df_prop.columns = ['proportion']\n",
    "df_prop.index.names = ['publisher', 'publication_date', 'query']\n",
    "df_prop = df_prop.reset_index(['publication_date', 'publisher', 'query'])"
   ]
  },
  {
   "cell_type": "code",
   "execution_count": 85,
   "metadata": {},
   "outputs": [],
   "source": [
    "df_viz = df_count.merge(df_prop, on=['publisher', 'publication_date', 'query'], how='outer')"
   ]
  },
  {
   "cell_type": "code",
   "execution_count": 86,
   "metadata": {},
   "outputs": [
    {
     "data": {
      "text/html": [
       "<div>\n",
       "<style scoped>\n",
       "    .dataframe tbody tr th:only-of-type {\n",
       "        vertical-align: middle;\n",
       "    }\n",
       "\n",
       "    .dataframe tbody tr th {\n",
       "        vertical-align: top;\n",
       "    }\n",
       "\n",
       "    .dataframe thead th {\n",
       "        text-align: right;\n",
       "    }\n",
       "</style>\n",
       "<table border=\"1\" class=\"dataframe\">\n",
       "  <thead>\n",
       "    <tr style=\"text-align: right;\">\n",
       "      <th></th>\n",
       "      <th>publisher</th>\n",
       "      <th>publication_date</th>\n",
       "      <th>query</th>\n",
       "      <th>count</th>\n",
       "      <th>proportion</th>\n",
       "    </tr>\n",
       "  </thead>\n",
       "  <tbody>\n",
       "    <tr>\n",
       "      <th>0</th>\n",
       "      <td>AFP</td>\n",
       "      <td>1991-05-31</td>\n",
       "      <td>BLN_total</td>\n",
       "      <td>4819.0</td>\n",
       "      <td>NaN</td>\n",
       "    </tr>\n",
       "    <tr>\n",
       "      <th>1</th>\n",
       "      <td>AFP</td>\n",
       "      <td>1991-05-31</td>\n",
       "      <td>climate_change</td>\n",
       "      <td>2.0</td>\n",
       "      <td>0.000415</td>\n",
       "    </tr>\n",
       "    <tr>\n",
       "      <th>2</th>\n",
       "      <td>AFP</td>\n",
       "      <td>1991-05-31</td>\n",
       "      <td>global_warming</td>\n",
       "      <td>0.0</td>\n",
       "      <td>0.000000</td>\n",
       "    </tr>\n",
       "    <tr>\n",
       "      <th>3</th>\n",
       "      <td>AFP</td>\n",
       "      <td>1991-05-31</td>\n",
       "      <td>pollinator_population</td>\n",
       "      <td>111.0</td>\n",
       "      <td>0.023034</td>\n",
       "    </tr>\n",
       "    <tr>\n",
       "      <th>4</th>\n",
       "      <td>AFP</td>\n",
       "      <td>1991-05-31</td>\n",
       "      <td>pollinator_crisis</td>\n",
       "      <td>26.0</td>\n",
       "      <td>0.005395</td>\n",
       "    </tr>\n",
       "    <tr>\n",
       "      <th>...</th>\n",
       "      <td>...</td>\n",
       "      <td>...</td>\n",
       "      <td>...</td>\n",
       "      <td>...</td>\n",
       "      <td>...</td>\n",
       "    </tr>\n",
       "    <tr>\n",
       "      <th>18595</th>\n",
       "      <td>XGNS</td>\n",
       "      <td>2019-08-31</td>\n",
       "      <td>BLN_total</td>\n",
       "      <td>5535.0</td>\n",
       "      <td>NaN</td>\n",
       "    </tr>\n",
       "    <tr>\n",
       "      <th>18596</th>\n",
       "      <td>XGNS</td>\n",
       "      <td>2019-08-31</td>\n",
       "      <td>climate_change</td>\n",
       "      <td>73.0</td>\n",
       "      <td>0.013189</td>\n",
       "    </tr>\n",
       "    <tr>\n",
       "      <th>18597</th>\n",
       "      <td>XGNS</td>\n",
       "      <td>2019-08-31</td>\n",
       "      <td>global_warming</td>\n",
       "      <td>9.0</td>\n",
       "      <td>0.001626</td>\n",
       "    </tr>\n",
       "    <tr>\n",
       "      <th>18598</th>\n",
       "      <td>XGNS</td>\n",
       "      <td>2019-08-31</td>\n",
       "      <td>pollinator_population</td>\n",
       "      <td>123.0</td>\n",
       "      <td>0.022222</td>\n",
       "    </tr>\n",
       "    <tr>\n",
       "      <th>18599</th>\n",
       "      <td>XGNS</td>\n",
       "      <td>2019-08-31</td>\n",
       "      <td>pollinator_crisis</td>\n",
       "      <td>27.0</td>\n",
       "      <td>0.004878</td>\n",
       "    </tr>\n",
       "  </tbody>\n",
       "</table>\n",
       "<p>18600 rows × 5 columns</p>\n",
       "</div>"
      ],
      "text/plain": [
       "      publisher publication_date                  query   count  proportion\n",
       "0           AFP       1991-05-31              BLN_total  4819.0         NaN\n",
       "1           AFP       1991-05-31         climate_change     2.0    0.000415\n",
       "2           AFP       1991-05-31         global_warming     0.0    0.000000\n",
       "3           AFP       1991-05-31  pollinator_population   111.0    0.023034\n",
       "4           AFP       1991-05-31      pollinator_crisis    26.0    0.005395\n",
       "...         ...              ...                    ...     ...         ...\n",
       "18595      XGNS       2019-08-31              BLN_total  5535.0         NaN\n",
       "18596      XGNS       2019-08-31         climate_change    73.0    0.013189\n",
       "18597      XGNS       2019-08-31         global_warming     9.0    0.001626\n",
       "18598      XGNS       2019-08-31  pollinator_population   123.0    0.022222\n",
       "18599      XGNS       2019-08-31      pollinator_crisis    27.0    0.004878\n",
       "\n",
       "[18600 rows x 5 columns]"
      ]
     },
     "execution_count": 86,
     "metadata": {},
     "output_type": "execute_result"
    }
   ],
   "source": [
    "df_viz"
   ]
  },
  {
   "cell_type": "markdown",
   "metadata": {},
   "source": [
    "## Queries\n",
    "\n",
    "#### BLN_total\n",
    "\n",
    "```\n",
    "(content:*) \n",
    "AND source_name:BulkLexisNexis\n",
    "```\n",
    "\n",
    "#### climate_change\n",
    "\n",
    "```\n",
    "(content:\"climate change\") \n",
    "AND source_name:BulkLexisNexis\n",
    "```\n",
    "\n",
    "\n",
    "#### global_warming\n",
    "\n",
    "```\n",
    "(content:\"global warming\") \n",
    "AND source_name:BulkLexisNexis\n",
    "```\n",
    "\n",
    "#### pollinator_population\n",
    "\n",
    "```\n",
    "(content:\n",
    "    (insect* OR pollinator* OR bee* OR honeybee* OR butterfl* OR moth*) \n",
    "    AND (population OR *diversity OR biomass OR ecolog* OR ecosystem* OR entomolog*)\n",
    ") \n",
    "AND source_name:BulkLexisNexis\n",
    "```\n",
    "\n",
    "#### pollinator_crisis\n",
    "\n",
    "```\n",
    "(content:\n",
    "    (insect* OR pollinator* OR bee* OR honeybee* OR butterfl* OR moth*) \n",
    "    AND (population OR *diversity OR biomass OR ecolog* OR ecosystem* OR entomolog*) \n",
    "    AND (crisis OR \"colony collapse\" OR apocalypse OR extinct* OR declin* OR drop OR decreas* OR disappear*)\n",
    ") \n",
    "AND source_name:BulkLexisNexis\n",
    "```\n"
   ]
  },
  {
   "cell_type": "code",
   "execution_count": 87,
   "metadata": {},
   "outputs": [],
   "source": [
    "publisher_options = [('New York Times', 'NYT'), ('Washington Post', 'WP'), ('Summary of World Broadcasts', 'SWB'), \n",
    "             ('Associated Press', 'AP'), ('Agence France Presse', 'AFP'), ('Xinhua General News Service', 'XGNS'), \n",
    "             ('United Press International', 'UPI'), ('Deutsche Presse-Agentur', 'DPA'), ('Inter Press Service', 'IPS')]\n",
    "query_options = list(df_viz['query'].unique())"
   ]
  },
  {
   "cell_type": "code",
   "execution_count": 88,
   "metadata": {},
   "outputs": [],
   "source": [
    "choose_CountOrProp = widgets.ToggleButtons(\n",
    "    options=[('Count', 'count'), ('Proportion', 'proportion')],\n",
    "    description='Article: ', layout=widgets.Layout(width='25%')\n",
    ")"
   ]
  },
  {
   "cell_type": "code",
   "execution_count": 89,
   "metadata": {},
   "outputs": [],
   "source": [
    "choose_comparison = widgets.ToggleButtons(\n",
    "    options=[('Queries', 'publisher'), ('Publishers', 'query')],\n",
    "    description='Compare: ', layout=widgets.Layout(width='25%')\n",
    ")"
   ]
  },
  {
   "cell_type": "code",
   "execution_count": 90,
   "metadata": {},
   "outputs": [],
   "source": [
    "choose_filter = widgets.Dropdown(options=publisher_options, description='Choose: ', layout=widgets.Layout(width='25%'))"
   ]
  },
  {
   "cell_type": "code",
   "execution_count": 91,
   "metadata": {},
   "outputs": [],
   "source": [
    "plot_button = widgets.Button(description=\"Plot\")"
   ]
  },
  {
   "cell_type": "code",
   "execution_count": 92,
   "metadata": {},
   "outputs": [],
   "source": [
    "clear_button = widgets.Button(description=\"Clear plots\")"
   ]
  },
  {
   "cell_type": "code",
   "execution_count": 93,
   "metadata": {},
   "outputs": [],
   "source": [
    "# set up control box organization\n",
    "buttons = widgets.VBox(children=[plot_button, clear_button], layout=widgets.Layout(width='25%'))\n",
    "graph_controls = widgets.HBox(children=[choose_CountOrProp, choose_comparison, choose_filter, buttons])\n",
    "\n",
    "# if \"Compare\" changes, change the options for \"Choose\"\n",
    "def change_graph_controls(change):\n",
    "    graph_comparison_type = change['new']\n",
    "    if graph_comparison_type == 'publisher':\n",
    "        choose_filter.options = publisher_options\n",
    "    elif graph_comparison_type == 'query':\n",
    "        choose_filter.options = query_options\n",
    "\n",
    "choose_comparison.observe(change_graph_controls, ['value'])\n",
    "\n",
    "# function to create the plot\n",
    "def create_plot(query_column = choose_comparison.value, query_value = choose_filter.value, y_axis = choose_CountOrProp.value):\n",
    "    if query_column  == 'publisher':\n",
    "        color = 'query'\n",
    "    elif query_column  == 'query':\n",
    "        color = 'publisher'\n",
    "    \n",
    "    query_text = query_column + \"=='\" + query_value + \"'\"\n",
    "    title_text = query_column + \": \" + query_value\n",
    "    fig = px.line(df_viz.query(query_text), x=\"publication_date\", y=y_axis, color=color, title=title_text)\n",
    "    \n",
    "    return fig\n",
    "\n",
    "out = widgets.Output()\n",
    "with out:\n",
    "    display(graph_controls)\n",
    "\n",
    "# when \"add chart\" button is clicked, add new chart below\n",
    "def add_plot(b):\n",
    "    fig = create_plot(query_column = choose_comparison.value, query_value = choose_filter.value, y_axis = choose_CountOrProp.value)\n",
    "    display(fig)\n",
    "\n",
    "plot_button.on_click(add_plot)\n",
    "\n",
    "# when \"new plot\" button is clicked, clear all plots and generate a new plot\n",
    "def clear_plots(b):\n",
    "    with out:\n",
    "        out.clear_output()\n",
    "        display(graph_controls)\n",
    "    \n",
    "clear_button.on_click(clear_plots)"
   ]
  },
  {
   "cell_type": "code",
   "execution_count": 94,
   "metadata": {},
   "outputs": [
    {
     "data": {
      "application/vnd.jupyter.widget-view+json": {
       "model_id": "a53fd9cd517e4187b928ba2e662579d9",
       "version_major": 2,
       "version_minor": 0
      },
      "text/plain": [
       "Output(outputs=({'output_type': 'display_data', 'data': {'text/plain': \"HBox(children=(ToggleButtons(descripti…"
      ]
     },
     "metadata": {},
     "output_type": "display_data"
    }
   ],
   "source": [
    "display(out)"
   ]
  },
  {
   "cell_type": "code",
   "execution_count": null,
   "metadata": {},
   "outputs": [],
   "source": []
  }
 ],
 "metadata": {
  "kernelspec": {
   "display_name": "Python 3",
   "language": "python",
   "name": "python3"
  },
  "language_info": {
   "codemirror_mode": {
    "name": "ipython",
    "version": 3
   },
   "file_extension": ".py",
   "mimetype": "text/x-python",
   "name": "python",
   "nbconvert_exporter": "python",
   "pygments_lexer": "ipython3",
   "version": "3.8.1"
  }
 },
 "nbformat": 4,
 "nbformat_minor": 2
}
